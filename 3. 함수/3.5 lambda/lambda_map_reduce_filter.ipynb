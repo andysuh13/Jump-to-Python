{
 "cells": [
  {
   "cell_type": "code",
   "execution_count": 6,
   "metadata": {},
   "outputs": [
    {
     "name": "stdout",
     "output_type": "stream",
     "text": [
      "30\n"
     ]
    },
    {
     "data": {
      "text/plain": [
       "30"
      ]
     },
     "execution_count": 6,
     "metadata": {},
     "output_type": "execute_result"
    }
   ],
   "source": [
    "# lambda 매개변수 : 표현식\n",
    "def hap(x, y):\n",
    "    return x+ y\n",
    "print(hap(10, 20)) # 30\n",
    "print((lambda x, y : x + y)(10, 20)) # 30"
   ]
  },
  {
   "cell_type": "code",
   "execution_count": 13,
   "metadata": {},
   "outputs": [
    {
     "name": "stdout",
     "output_type": "stream",
     "text": [
      "<map object at 0x000001FCD5776D00>\n",
      "[0, 1, 4, 9, 16]\n"
     ]
    }
   ],
   "source": [
    "# map(함수, 리스트)\n",
    "print(map(lambda x : x ** 2, range(5))) # class 'map'\n",
    "print(list(map(lambda x : x ** 2, range(5)))) # [0, 1, 4, 9, 16]\n"
   ]
  },
  {
   "cell_type": "code",
   "execution_count": 15,
   "metadata": {},
   "outputs": [
    {
     "name": "stdout",
     "output_type": "stream",
     "text": [
      "10\n",
      "edcba\n"
     ]
    }
   ],
   "source": [
    "# reduce(함수, 시퀀스)\n",
    "from functools import reduce\n",
    "print(reduce(lambda x, y : x + y, [0, 1, 2, 3, 4])) # 10\n",
    "print(reduce(lambda x, y : y + x, 'abcde')) # 'edcba'"
   ]
  },
  {
   "cell_type": "code",
   "execution_count": 21,
   "metadata": {},
   "outputs": [
    {
     "name": "stdout",
     "output_type": "stream",
     "text": [
      "<filter object at 0x000001FCD572D760>\n",
      "[0, 1, 2, 3, 4]\n",
      "[1, 3, 5, 7, 9]\n"
     ]
    }
   ],
   "source": [
    "# filter(함수, 리스트) : 리스트의 원소들을 함수에 적용시켜 겨로가가 참인 값들로 새로운 리스트를 만들어준다.\n",
    "print(filter(lambda x : x < 5, range(10))) # class 'filter'\n",
    "print(list(filter(lambda x : x < 5, range(10)))) # [0, 1, 2, 3, 4]\n",
    "print(list(filter(lambda x : x % 2, range(10)))) # [1, 3, 5, 7, 9]\n"
   ]
  },
  {
   "cell_type": "code",
   "execution_count": null,
   "metadata": {},
   "outputs": [],
   "source": []
  }
 ],
 "metadata": {
  "kernelspec": {
   "display_name": "torch_book",
   "language": "python",
   "name": "python3"
  },
  "language_info": {
   "codemirror_mode": {
    "name": "ipython",
    "version": 3
   },
   "file_extension": ".py",
   "mimetype": "text/x-python",
   "name": "python",
   "nbconvert_exporter": "python",
   "pygments_lexer": "ipython3",
   "version": "3.9.15"
  },
  "orig_nbformat": 4,
  "vscode": {
   "interpreter": {
    "hash": "ff055b264b518e3f2354bf39c6bc1b7010048aa490a8388ae96ea68628ff2a61"
   }
  }
 },
 "nbformat": 4,
 "nbformat_minor": 2
}
